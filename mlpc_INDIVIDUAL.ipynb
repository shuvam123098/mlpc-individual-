{
  "nbformat": 4,
  "nbformat_minor": 0,
  "metadata": {
    "colab": {
      "provenance": [],
      "gpuType": "T4"
    },
    "kernelspec": {
      "name": "python3",
      "display_name": "Python 3"
    },
    "language_info": {
      "name": "python"
    },
    "accelerator": "GPU"
  },
  "cells": [
    {
      "cell_type": "code",
      "execution_count": 114,
      "metadata": {
        "colab": {
          "base_uri": "https://localhost:8080/"
        },
        "id": "6U65mmwZmPRH",
        "outputId": "d99cff22-0caf-41e6-e86c-47101a101bf4"
      },
      "outputs": [
        {
          "output_type": "stream",
          "name": "stdout",
          "text": [
            "Drive already mounted at /content/drive; to attempt to forcibly remount, call drive.mount(\"/content/drive\", force_remount=True).\n"
          ]
        }
      ],
      "source": [
        "from google.colab import drive\n",
        "drive.mount('/content/drive')"
      ]
    },
    {
      "cell_type": "code",
      "source": [
        "import pandas as pd\n",
        "import numpy as np\n",
        "from sklearn.model_selection import train_test_split, GridSearchCV\n",
        "from sklearn.ensemble import RandomForestClassifier\n",
        "from sklearn.metrics import accuracy_score, precision_score, recall_score, f1_score, confusion_matrix\n",
        "import matplotlib.pyplot as plt\n",
        "import seaborn as sns\n",
        "import time\n",
        "from sklearn.model_selection import GridSearchCV\n",
        "from sklearn.preprocessing import LabelEncoder"
      ],
      "metadata": {
        "id": "qC3g3oqSmhuH"
      },
      "execution_count": 115,
      "outputs": []
    },
    {
      "cell_type": "code",
      "source": [
        "import pandas as pd\n",
        "\n",
        "# Define file paths first\n",
        "path1 = '/content/drive/MyDrive/Dataset/earthquake_1995-2023.csv'\n",
        "path2 = '/content/drive/MyDrive/Dataset/earthquake_data.csv'\n",
        "\n",
        "# Load dataframes\n",
        "eq_95_23 = pd.read_csv(path1)\n",
        "eq_data = pd.read_csv(path2)"
      ],
      "metadata": {
        "id": "up3PNUXqm4Jt"
      },
      "execution_count": 116,
      "outputs": []
    },
    {
      "cell_type": "code",
      "source": [
        "print(\"--- Data Loading ---\")\n",
        "print(\"1995-2023 Earthquake Data (First 5 Rows):\")\n",
        "print(eq_95_23.head())\n",
        "\n",
        "print(\"\\n1995-2023 Earthquake Data (Info):\")\n",
        "print(eq_95_23.info())"
      ],
      "metadata": {
        "colab": {
          "base_uri": "https://localhost:8080/"
        },
        "id": "La9LxMzlnLKY",
        "outputId": "f723492c-7a35-42cb-9d7b-4dd06131878c"
      },
      "execution_count": 117,
      "outputs": [
        {
          "output_type": "stream",
          "name": "stdout",
          "text": [
            "--- Data Loading ---\n",
            "1995-2023 Earthquake Data (First 5 Rows):\n",
            "                                      title  magnitude         date_time  cdi  \\\n",
            "0          M 6.5 - 42 km W of Sola, Vanuatu        6.5  16-08-2023 12:47    7   \n",
            "1  M 6.5 - 43 km S of Intipucá, El Salvador        6.5  19-07-2023 00:22    8   \n",
            "2  M 6.6 - 25 km ESE of Loncopué, Argentina        6.6  17-07-2023 03:05    7   \n",
            "3     M 7.2 - 98 km S of Sand Point, Alaska        7.2  16-07-2023 06:48    6   \n",
            "4                  M 7.3 - Alaska Peninsula        7.3  16-07-2023 06:48    0   \n",
            "\n",
            "   mmi   alert  tsunami  sig net  nst      dmin    gap magType    depth  \\\n",
            "0    4   green        0  657  us  114  7.177000   25.0     mww  192.955   \n",
            "1    6  yellow        0  775  us   92  0.679000   40.0     mww   69.727   \n",
            "2    5   green        0  899  us   70  1.634000   28.0     mww  171.371   \n",
            "3    6   green        1  860  us  173  0.907000   36.0     mww   32.571   \n",
            "4    5     NaN        1  820  at   79  0.879451  172.8      Mi   21.000   \n",
            "\n",
            "   latitude  longitude               location      continent    country  \n",
            "0  -13.8814   167.1580          Sola, Vanuatu            NaN    Vanuatu  \n",
            "1   12.8140   -88.1265  Intipucá, El Salvador            NaN        NaN  \n",
            "2  -38.1911   -70.3731    Loncopué, Argentina  South America  Argentina  \n",
            "3   54.3844  -160.6990     Sand Point, Alaska            NaN        NaN  \n",
            "4   54.4900  -160.7960       Alaska Peninsula            NaN        NaN  \n",
            "\n",
            "1995-2023 Earthquake Data (Info):\n",
            "<class 'pandas.core.frame.DataFrame'>\n",
            "RangeIndex: 1000 entries, 0 to 999\n",
            "Data columns (total 19 columns):\n",
            " #   Column     Non-Null Count  Dtype  \n",
            "---  ------     --------------  -----  \n",
            " 0   title      1000 non-null   object \n",
            " 1   magnitude  1000 non-null   float64\n",
            " 2   date_time  1000 non-null   object \n",
            " 3   cdi        1000 non-null   int64  \n",
            " 4   mmi        1000 non-null   int64  \n",
            " 5   alert      449 non-null    object \n",
            " 6   tsunami    1000 non-null   int64  \n",
            " 7   sig        1000 non-null   int64  \n",
            " 8   net        1000 non-null   object \n",
            " 9   nst        1000 non-null   int64  \n",
            " 10  dmin       1000 non-null   float64\n",
            " 11  gap        1000 non-null   float64\n",
            " 12  magType    1000 non-null   object \n",
            " 13  depth      1000 non-null   float64\n",
            " 14  latitude   1000 non-null   float64\n",
            " 15  longitude  1000 non-null   float64\n",
            " 16  location   994 non-null    object \n",
            " 17  continent  284 non-null    object \n",
            " 18  country    651 non-null    object \n",
            "dtypes: float64(6), int64(5), object(8)\n",
            "memory usage: 148.6+ KB\n",
            "None\n"
          ]
        }
      ]
    },
    {
      "cell_type": "code",
      "source": [
        "print(\"\\n-------------------------\")\n",
        "print(\"Earthquake Records (First 5 Rows):\")\n",
        "print(eq_data.head())\n",
        "\n",
        "print(\"\\nEarthquake Records (Info):\")\n",
        "print(eq_data.info())"
      ],
      "metadata": {
        "colab": {
          "base_uri": "https://localhost:8080/"
        },
        "id": "xrLYPkwBnQNQ",
        "outputId": "3ff2c44b-1d82-4814-a68d-472d34ff2edf"
      },
      "execution_count": 118,
      "outputs": [
        {
          "output_type": "stream",
          "name": "stdout",
          "text": [
            "\n",
            "-------------------------\n",
            "Earthquake Records (First 5 Rows):\n",
            "                                          title  magnitude         date_time  \\\n",
            "0  M 7.0 - 18 km SW of Malango, Solomon Islands        7.0  22-11-2022 02:03   \n",
            "1      M 6.9 - 204 km SW of Bengkulu, Indonesia        6.9  18-11-2022 13:37   \n",
            "2                                      M 7.0 -         7.0  12-11-2022 07:09   \n",
            "3           M 7.3 - 205 km ESE of Neiafu, Tonga        7.3  11-11-2022 10:48   \n",
            "4                                      M 6.6 -         6.6  09-11-2022 10:14   \n",
            "\n",
            "   cdi  mmi  alert  tsunami  sig net  nst   dmin   gap magType    depth  \\\n",
            "0    8    7  green        1  768  us  117  0.509  17.0     mww   14.000   \n",
            "1    4    4  green        0  735  us   99  2.229  34.0     mww   25.000   \n",
            "2    3    3  green        1  755  us  147  3.125  18.0     mww  579.000   \n",
            "3    5    5  green        1  833  us  149  1.865  21.0     mww   37.000   \n",
            "4    0    2  green        1  670  us  131  4.998  27.0     mww  624.464   \n",
            "\n",
            "   latitude  longitude                  location continent          country  \n",
            "0   -9.7963    159.596  Malango, Solomon Islands   Oceania  Solomon Islands  \n",
            "1   -4.9559    100.738       Bengkulu, Indonesia       NaN              NaN  \n",
            "2  -20.0508   -178.346                       NaN   Oceania             Fiji  \n",
            "3  -19.2918   -172.129             Neiafu, Tonga       NaN              NaN  \n",
            "4  -25.5948    178.278                       NaN       NaN              NaN  \n",
            "\n",
            "Earthquake Records (Info):\n",
            "<class 'pandas.core.frame.DataFrame'>\n",
            "RangeIndex: 782 entries, 0 to 781\n",
            "Data columns (total 19 columns):\n",
            " #   Column     Non-Null Count  Dtype  \n",
            "---  ------     --------------  -----  \n",
            " 0   title      782 non-null    object \n",
            " 1   magnitude  782 non-null    float64\n",
            " 2   date_time  782 non-null    object \n",
            " 3   cdi        782 non-null    int64  \n",
            " 4   mmi        782 non-null    int64  \n",
            " 5   alert      415 non-null    object \n",
            " 6   tsunami    782 non-null    int64  \n",
            " 7   sig        782 non-null    int64  \n",
            " 8   net        782 non-null    object \n",
            " 9   nst        782 non-null    int64  \n",
            " 10  dmin       782 non-null    float64\n",
            " 11  gap        782 non-null    float64\n",
            " 12  magType    782 non-null    object \n",
            " 13  depth      782 non-null    float64\n",
            " 14  latitude   782 non-null    float64\n",
            " 15  longitude  782 non-null    float64\n",
            " 16  location   777 non-null    object \n",
            " 17  continent  206 non-null    object \n",
            " 18  country    484 non-null    object \n",
            "dtypes: float64(6), int64(5), object(8)\n",
            "memory usage: 116.2+ KB\n",
            "None\n"
          ]
        }
      ]
    },
    {
      "cell_type": "code",
      "source": [
        "# Merge historical and current earthquake records into single dataframe\n",
        "complete_quake_data = pd.concat(\n",
        "    [eq_95_23, eq_data],\n",
        "    axis=0,\n",
        "    ignore_index=True\n",
        ")\n",
        "\n",
        "print(\"\\n--- Combined Dataset ---\")\n",
        "print(f\"Total records after merging: {len(complete_quake_data):,}\")\n",
        "print(\"Sample of combined data:\")\n",
        "print(complete_quake_data.head(3))"
      ],
      "metadata": {
        "id": "9NnHZEronSxI",
        "colab": {
          "base_uri": "https://localhost:8080/"
        },
        "outputId": "92f8a221-2aab-4f8f-cd66-e4741b8b1bbd"
      },
      "execution_count": 119,
      "outputs": [
        {
          "output_type": "stream",
          "name": "stdout",
          "text": [
            "\n",
            "--- Combined Dataset ---\n",
            "Total records after merging: 1,782\n",
            "Sample of combined data:\n",
            "                                      title  magnitude         date_time  cdi  \\\n",
            "0          M 6.5 - 42 km W of Sola, Vanuatu        6.5  16-08-2023 12:47    7   \n",
            "1  M 6.5 - 43 km S of Intipucá, El Salvador        6.5  19-07-2023 00:22    8   \n",
            "2  M 6.6 - 25 km ESE of Loncopué, Argentina        6.6  17-07-2023 03:05    7   \n",
            "\n",
            "   mmi   alert  tsunami  sig net  nst   dmin   gap magType    depth  latitude  \\\n",
            "0    4   green        0  657  us  114  7.177  25.0     mww  192.955  -13.8814   \n",
            "1    6  yellow        0  775  us   92  0.679  40.0     mww   69.727   12.8140   \n",
            "2    5   green        0  899  us   70  1.634  28.0     mww  171.371  -38.1911   \n",
            "\n",
            "   longitude               location      continent    country  \n",
            "0   167.1580          Sola, Vanuatu            NaN    Vanuatu  \n",
            "1   -88.1265  Intipucá, El Salvador            NaN        NaN  \n",
            "2   -70.3731    Loncopué, Argentina  South America  Argentina  \n"
          ]
        }
      ]
    },
    {
      "cell_type": "code",
      "source": [
        "print(\"\\nDataset structure summary:\")\n",
        "complete_quake_data.info(verbose=True, show_counts=True)  # More detailed info\n",
        "\n",
        "print(\"\\nDataset dimensions:\")\n",
        "print(f\"• Rows: {complete_quake_data.shape[0]:,}\")\n",
        "print(f\"• Columns: {complete_quake_data.shape[1]}\")\n",
        "print(f\"• Total entries: {complete_quake_data.size:,}\")"
      ],
      "metadata": {
        "colab": {
          "base_uri": "https://localhost:8080/"
        },
        "id": "qVQyXtWUnUZY",
        "outputId": "f596011a-d759-4d23-8633-8e2bfb3adb7a"
      },
      "execution_count": 120,
      "outputs": [
        {
          "output_type": "stream",
          "name": "stdout",
          "text": [
            "\n",
            "Dataset structure summary:\n",
            "<class 'pandas.core.frame.DataFrame'>\n",
            "RangeIndex: 1782 entries, 0 to 1781\n",
            "Data columns (total 19 columns):\n",
            " #   Column     Non-Null Count  Dtype  \n",
            "---  ------     --------------  -----  \n",
            " 0   title      1782 non-null   object \n",
            " 1   magnitude  1782 non-null   float64\n",
            " 2   date_time  1782 non-null   object \n",
            " 3   cdi        1782 non-null   int64  \n",
            " 4   mmi        1782 non-null   int64  \n",
            " 5   alert      864 non-null    object \n",
            " 6   tsunami    1782 non-null   int64  \n",
            " 7   sig        1782 non-null   int64  \n",
            " 8   net        1782 non-null   object \n",
            " 9   nst        1782 non-null   int64  \n",
            " 10  dmin       1782 non-null   float64\n",
            " 11  gap        1782 non-null   float64\n",
            " 12  magType    1782 non-null   object \n",
            " 13  depth      1782 non-null   float64\n",
            " 14  latitude   1782 non-null   float64\n",
            " 15  longitude  1782 non-null   float64\n",
            " 16  location   1771 non-null   object \n",
            " 17  continent  490 non-null    object \n",
            " 18  country    1135 non-null   object \n",
            "dtypes: float64(6), int64(5), object(8)\n",
            "memory usage: 264.6+ KB\n",
            "\n",
            "Dataset dimensions:\n",
            "• Rows: 1,782\n",
            "• Columns: 19\n",
            "• Total entries: 33,858\n"
          ]
        }
      ]
    },
    {
      "cell_type": "markdown",
      "source": [
        "# **Data Preprocessing and Feature Engineering**"
      ],
      "metadata": {
        "id": "y6DZx7T8nZKw"
      }
    },
    {
      "cell_type": "code",
      "source": [
        "# 1. Convert and enhance datetime features with comprehensive error handling\n",
        "complete_quake_data['date_time'] = pd.to_datetime(\n",
        "    complete_quake_data['date_time'],\n",
        "    format='%d-%m-%Y %H:%M',  # Explicit format matching the input\n",
        "    errors='coerce',  # Convert parsing failures to NaT\n",
        "    exact=True,  # Require exact format match\n",
        "    utc=True  # Standardize to UTC timezone\n",
        ")\n",
        "\n",
        "# Extract comprehensive temporal features\n",
        "complete_quake_data['year'] = complete_quake_data['date_time'].dt.year\n",
        "complete_quake_data['month'] = complete_quake_data['date_time'].dt.month_name()\n",
        "complete_quake_data['day_of_week'] = complete_quake_data['date_time'].dt.day_name()\n",
        "complete_quake_data['hour'] = complete_quake_data['date_time'].dt.hour\n",
        "complete_quake_data['is_weekend'] = complete_quake_data['date_time'].dt.weekday >= 5\n",
        "\n",
        "# Verify datetime conversion\n",
        "print(\"\\n--- Datetime Conversion Report ---\")\n",
        "print(f\"Successfully parsed: {complete_quake_data['date_time'].notna().sum():,} records\")\n",
        "print(f\"Failed conversions: {complete_quake_data['date_time'].isna().sum():,} records\")\n",
        "print(\"\\nSample converted timestamps:\")\n",
        "print(complete_quake_data[['date_time'] + [col for col in complete_quake_data.columns if col != 'date_time'][:3]].head(3))"
      ],
      "metadata": {
        "id": "kLzPsvJind6F",
        "colab": {
          "base_uri": "https://localhost:8080/"
        },
        "outputId": "05619078-2cb2-465c-953a-d9512c603005"
      },
      "execution_count": 121,
      "outputs": [
        {
          "output_type": "stream",
          "name": "stdout",
          "text": [
            "\n",
            "--- Datetime Conversion Report ---\n",
            "Successfully parsed: 1,782 records\n",
            "Failed conversions: 0 records\n",
            "\n",
            "Sample converted timestamps:\n",
            "                  date_time                                     title  \\\n",
            "0 2023-08-16 12:47:00+00:00          M 6.5 - 42 km W of Sola, Vanuatu   \n",
            "1 2023-07-19 00:22:00+00:00  M 6.5 - 43 km S of Intipucá, El Salvador   \n",
            "2 2023-07-17 03:05:00+00:00  M 6.6 - 25 km ESE of Loncopué, Argentina   \n",
            "\n",
            "   magnitude  cdi  \n",
            "0        6.5    7  \n",
            "1        6.5    8  \n",
            "2        6.6    7  \n"
          ]
        }
      ]
    },
    {
      "cell_type": "code",
      "source": [
        "# Extract and enhance temporal features with more meaningful representations\n",
        "complete_quake_data = complete_quake_data.assign(\n",
        "    year = lambda x: x['date_time'].dt.year,\n",
        "    month_num = lambda x: x['date_time'].dt.month,  # Numeric month (1-12)\n",
        "    month_name = lambda x: x['date_time'].dt.month_name(),  # Full month name\n",
        "    day = lambda x: x['date_time'].dt.day,\n",
        "    hour = lambda x: x['date_time'].dt.hour,\n",
        "    day_of_week_num = lambda x: x['date_time'].dt.dayofweek,  # Monday=0, Sunday=6\n",
        "    day_of_week_name = lambda x: x['date_time'].dt.day_name(),  # Full day name\n",
        "    quarter = lambda x: x['date_time'].dt.quarter,\n",
        "    is_weekend = lambda x: x['date_time'].dt.dayofweek >= 5,  # Boolean weekend flag\n",
        "    hour_category = lambda x: pd.cut(x['date_time'].dt.hour,\n",
        "                                   bins=[0, 6, 12, 18, 24],\n",
        "                                   labels=['Night', 'Morning', 'Afternoon', 'Evening'],\n",
        "                                   right=False)\n",
        ")\n",
        "\n",
        "# Verify temporal feature extraction\n",
        "print(\"\\n--- Temporal Features Report ---\")\n",
        "print(\"Extracted features summary:\")\n",
        "print(complete_quake_data[['year', 'month_name', 'day_of_week_name',\n",
        "                          'hour_category', 'is_weekend']].sample(5, random_state=1))\n",
        "print(\"\\nValue counts by hour category:\")\n",
        "print(complete_quake_data['hour_category'].value_counts())"
      ],
      "metadata": {
        "id": "9iuyoNJ6niYI",
        "colab": {
          "base_uri": "https://localhost:8080/"
        },
        "outputId": "18d345b2-a57b-43eb-fcb3-6b7576777659"
      },
      "execution_count": 122,
      "outputs": [
        {
          "output_type": "stream",
          "name": "stdout",
          "text": [
            "\n",
            "--- Temporal Features Report ---\n",
            "Extracted features summary:\n",
            "      year month_name day_of_week_name hour_category  is_weekend\n",
            "1547  2009    January         Saturday       Evening        True\n",
            "1171  2018     August           Friday     Afternoon       False\n",
            "302   2015   November         Thursday         Night       False\n",
            "108   2021      March         Thursday       Evening       False\n",
            "916   1997    October        Wednesday         Night       False\n",
            "\n",
            "Value counts by hour category:\n",
            "hour_category\n",
            "Evening      474\n",
            "Afternoon    467\n",
            "Morning      448\n",
            "Night        393\n",
            "Name: count, dtype: int64\n"
          ]
        }
      ]
    },
    {
      "cell_type": "code",
      "source": [
        "# 2. Handle missing values in numerical columns\n",
        "numerical_cols = complete_quake_data.select_dtypes(include=np.number).columns\n",
        "for col in numerical_cols:\n",
        "    if complete_quake_data[col].isnull().any():\n",
        "        complete_quake_data[col].fillna(complete_quake_data[col].mean(), inplace=True)"
      ],
      "metadata": {
        "id": "isBwJhnQnjcA"
      },
      "execution_count": 123,
      "outputs": []
    },
    {
      "cell_type": "code",
      "source": [
        "# Handle missing categorical values by filling with 'Unknown'\n",
        "categorical_cols = complete_quake_data.select_dtypes(include='object').columns\n",
        "for col in categorical_cols:\n",
        "    if complete_quake_data[col].isnull().any():\n",
        "        complete_quake_data[col] = complete_quake_data[col].fillna('Unknown')"
      ],
      "metadata": {
        "id": "UwpqffXVnnLQ"
      },
      "execution_count": 124,
      "outputs": []
    },
    {
      "cell_type": "code",
      "source": [
        "# Remove processed/redundant columns with verification\n",
        "columns_to_drop = ['date_time', 'title']\n",
        "complete_quake_data = complete_quake_data.drop(columns=columns_to_drop)\n",
        "\n",
        "# Verify columns were dropped\n",
        "print(\"\\n--- Column Removal Verification ---\")\n",
        "print(f\"Dropped columns: {columns_to_drop}\")\n",
        "print(\"Remaining columns:\")\n",
        "print(complete_quake_data.columns.tolist())\n",
        "print(f\"\\nNew shape: {complete_quake_data.shape}\")"
      ],
      "metadata": {
        "id": "RZx-A_PznoQA",
        "colab": {
          "base_uri": "https://localhost:8080/"
        },
        "outputId": "53153819-6412-4525-d736-e8c9ca26ca57"
      },
      "execution_count": 125,
      "outputs": [
        {
          "output_type": "stream",
          "name": "stdout",
          "text": [
            "\n",
            "--- Column Removal Verification ---\n",
            "Dropped columns: ['date_time', 'title']\n",
            "Remaining columns:\n",
            "['magnitude', 'cdi', 'mmi', 'alert', 'tsunami', 'sig', 'net', 'nst', 'dmin', 'gap', 'magType', 'depth', 'latitude', 'longitude', 'location', 'continent', 'country', 'year', 'month', 'day_of_week', 'hour', 'is_weekend', 'month_num', 'month_name', 'day', 'day_of_week_num', 'day_of_week_name', 'quarter', 'hour_category']\n",
            "\n",
            "New shape: (1782, 29)\n"
          ]
        }
      ]
    },
    {
      "cell_type": "code",
      "source": [
        "print(\"\\n--- Final Preprocessed Dataset Summary ---\")\n",
        "print(\"Dataset Structure:\")\n",
        "complete_quake_data.info(verbose=True, show_counts=True)\n",
        "\n",
        "print(\"\\nSample Records:\")\n",
        "display(complete_quake_data.head(3).style.set_caption(\"First 3 Processed Records\"))\n",
        "\n",
        "print(\"\\nKey Statistics:\")\n",
        "print(f\"• Total records: {len(complete_quake_data):,}\")\n",
        "print(f\"• Features: {len(complete_quake_data.columns)}\")\n",
        "print(f\"• Numeric columns: {len(complete_quake_data.select_dtypes(include=np.number).columns)}\")\n",
        "print(f\"• Categorical columns: {len(complete_quake_data.select_dtypes(include='object').columns)}\")"
      ],
      "metadata": {
        "colab": {
          "base_uri": "https://localhost:8080/",
          "height": 1000
        },
        "id": "4MLUzoaunr8x",
        "outputId": "290bd819-055e-4cc5-867b-e74756d53289"
      },
      "execution_count": 126,
      "outputs": [
        {
          "output_type": "stream",
          "name": "stdout",
          "text": [
            "\n",
            "--- Final Preprocessed Dataset Summary ---\n",
            "Dataset Structure:\n",
            "<class 'pandas.core.frame.DataFrame'>\n",
            "RangeIndex: 1782 entries, 0 to 1781\n",
            "Data columns (total 29 columns):\n",
            " #   Column            Non-Null Count  Dtype   \n",
            "---  ------            --------------  -----   \n",
            " 0   magnitude         1782 non-null   float64 \n",
            " 1   cdi               1782 non-null   int64   \n",
            " 2   mmi               1782 non-null   int64   \n",
            " 3   alert             1782 non-null   object  \n",
            " 4   tsunami           1782 non-null   int64   \n",
            " 5   sig               1782 non-null   int64   \n",
            " 6   net               1782 non-null   object  \n",
            " 7   nst               1782 non-null   int64   \n",
            " 8   dmin              1782 non-null   float64 \n",
            " 9   gap               1782 non-null   float64 \n",
            " 10  magType           1782 non-null   object  \n",
            " 11  depth             1782 non-null   float64 \n",
            " 12  latitude          1782 non-null   float64 \n",
            " 13  longitude         1782 non-null   float64 \n",
            " 14  location          1782 non-null   object  \n",
            " 15  continent         1782 non-null   object  \n",
            " 16  country           1782 non-null   object  \n",
            " 17  year              1782 non-null   int32   \n",
            " 18  month             1782 non-null   object  \n",
            " 19  day_of_week       1782 non-null   object  \n",
            " 20  hour              1782 non-null   int32   \n",
            " 21  is_weekend        1782 non-null   bool    \n",
            " 22  month_num         1782 non-null   int32   \n",
            " 23  month_name        1782 non-null   object  \n",
            " 24  day               1782 non-null   int32   \n",
            " 25  day_of_week_num   1782 non-null   int32   \n",
            " 26  day_of_week_name  1782 non-null   object  \n",
            " 27  quarter           1782 non-null   int32   \n",
            " 28  hour_category     1782 non-null   category\n",
            "dtypes: bool(1), category(1), float64(6), int32(6), int64(5), object(10)\n",
            "memory usage: 337.9+ KB\n",
            "\n",
            "Sample Records:\n"
          ]
        },
        {
          "output_type": "display_data",
          "data": {
            "text/plain": [
              "<pandas.io.formats.style.Styler at 0x7fa38ee5a750>"
            ],
            "text/html": [
              "<style type=\"text/css\">\n",
              "</style>\n",
              "<table id=\"T_3fe25\" class=\"dataframe\">\n",
              "  <caption>First 3 Processed Records</caption>\n",
              "  <thead>\n",
              "    <tr>\n",
              "      <th class=\"blank level0\" >&nbsp;</th>\n",
              "      <th id=\"T_3fe25_level0_col0\" class=\"col_heading level0 col0\" >magnitude</th>\n",
              "      <th id=\"T_3fe25_level0_col1\" class=\"col_heading level0 col1\" >cdi</th>\n",
              "      <th id=\"T_3fe25_level0_col2\" class=\"col_heading level0 col2\" >mmi</th>\n",
              "      <th id=\"T_3fe25_level0_col3\" class=\"col_heading level0 col3\" >alert</th>\n",
              "      <th id=\"T_3fe25_level0_col4\" class=\"col_heading level0 col4\" >tsunami</th>\n",
              "      <th id=\"T_3fe25_level0_col5\" class=\"col_heading level0 col5\" >sig</th>\n",
              "      <th id=\"T_3fe25_level0_col6\" class=\"col_heading level0 col6\" >net</th>\n",
              "      <th id=\"T_3fe25_level0_col7\" class=\"col_heading level0 col7\" >nst</th>\n",
              "      <th id=\"T_3fe25_level0_col8\" class=\"col_heading level0 col8\" >dmin</th>\n",
              "      <th id=\"T_3fe25_level0_col9\" class=\"col_heading level0 col9\" >gap</th>\n",
              "      <th id=\"T_3fe25_level0_col10\" class=\"col_heading level0 col10\" >magType</th>\n",
              "      <th id=\"T_3fe25_level0_col11\" class=\"col_heading level0 col11\" >depth</th>\n",
              "      <th id=\"T_3fe25_level0_col12\" class=\"col_heading level0 col12\" >latitude</th>\n",
              "      <th id=\"T_3fe25_level0_col13\" class=\"col_heading level0 col13\" >longitude</th>\n",
              "      <th id=\"T_3fe25_level0_col14\" class=\"col_heading level0 col14\" >location</th>\n",
              "      <th id=\"T_3fe25_level0_col15\" class=\"col_heading level0 col15\" >continent</th>\n",
              "      <th id=\"T_3fe25_level0_col16\" class=\"col_heading level0 col16\" >country</th>\n",
              "      <th id=\"T_3fe25_level0_col17\" class=\"col_heading level0 col17\" >year</th>\n",
              "      <th id=\"T_3fe25_level0_col18\" class=\"col_heading level0 col18\" >month</th>\n",
              "      <th id=\"T_3fe25_level0_col19\" class=\"col_heading level0 col19\" >day_of_week</th>\n",
              "      <th id=\"T_3fe25_level0_col20\" class=\"col_heading level0 col20\" >hour</th>\n",
              "      <th id=\"T_3fe25_level0_col21\" class=\"col_heading level0 col21\" >is_weekend</th>\n",
              "      <th id=\"T_3fe25_level0_col22\" class=\"col_heading level0 col22\" >month_num</th>\n",
              "      <th id=\"T_3fe25_level0_col23\" class=\"col_heading level0 col23\" >month_name</th>\n",
              "      <th id=\"T_3fe25_level0_col24\" class=\"col_heading level0 col24\" >day</th>\n",
              "      <th id=\"T_3fe25_level0_col25\" class=\"col_heading level0 col25\" >day_of_week_num</th>\n",
              "      <th id=\"T_3fe25_level0_col26\" class=\"col_heading level0 col26\" >day_of_week_name</th>\n",
              "      <th id=\"T_3fe25_level0_col27\" class=\"col_heading level0 col27\" >quarter</th>\n",
              "      <th id=\"T_3fe25_level0_col28\" class=\"col_heading level0 col28\" >hour_category</th>\n",
              "    </tr>\n",
              "  </thead>\n",
              "  <tbody>\n",
              "    <tr>\n",
              "      <th id=\"T_3fe25_level0_row0\" class=\"row_heading level0 row0\" >0</th>\n",
              "      <td id=\"T_3fe25_row0_col0\" class=\"data row0 col0\" >6.500000</td>\n",
              "      <td id=\"T_3fe25_row0_col1\" class=\"data row0 col1\" >7</td>\n",
              "      <td id=\"T_3fe25_row0_col2\" class=\"data row0 col2\" >4</td>\n",
              "      <td id=\"T_3fe25_row0_col3\" class=\"data row0 col3\" >green</td>\n",
              "      <td id=\"T_3fe25_row0_col4\" class=\"data row0 col4\" >0</td>\n",
              "      <td id=\"T_3fe25_row0_col5\" class=\"data row0 col5\" >657</td>\n",
              "      <td id=\"T_3fe25_row0_col6\" class=\"data row0 col6\" >us</td>\n",
              "      <td id=\"T_3fe25_row0_col7\" class=\"data row0 col7\" >114</td>\n",
              "      <td id=\"T_3fe25_row0_col8\" class=\"data row0 col8\" >7.177000</td>\n",
              "      <td id=\"T_3fe25_row0_col9\" class=\"data row0 col9\" >25.000000</td>\n",
              "      <td id=\"T_3fe25_row0_col10\" class=\"data row0 col10\" >mww</td>\n",
              "      <td id=\"T_3fe25_row0_col11\" class=\"data row0 col11\" >192.955000</td>\n",
              "      <td id=\"T_3fe25_row0_col12\" class=\"data row0 col12\" >-13.881400</td>\n",
              "      <td id=\"T_3fe25_row0_col13\" class=\"data row0 col13\" >167.158000</td>\n",
              "      <td id=\"T_3fe25_row0_col14\" class=\"data row0 col14\" >Sola, Vanuatu</td>\n",
              "      <td id=\"T_3fe25_row0_col15\" class=\"data row0 col15\" >Unknown</td>\n",
              "      <td id=\"T_3fe25_row0_col16\" class=\"data row0 col16\" >Vanuatu</td>\n",
              "      <td id=\"T_3fe25_row0_col17\" class=\"data row0 col17\" >2023</td>\n",
              "      <td id=\"T_3fe25_row0_col18\" class=\"data row0 col18\" >August</td>\n",
              "      <td id=\"T_3fe25_row0_col19\" class=\"data row0 col19\" >Wednesday</td>\n",
              "      <td id=\"T_3fe25_row0_col20\" class=\"data row0 col20\" >12</td>\n",
              "      <td id=\"T_3fe25_row0_col21\" class=\"data row0 col21\" >False</td>\n",
              "      <td id=\"T_3fe25_row0_col22\" class=\"data row0 col22\" >8</td>\n",
              "      <td id=\"T_3fe25_row0_col23\" class=\"data row0 col23\" >August</td>\n",
              "      <td id=\"T_3fe25_row0_col24\" class=\"data row0 col24\" >16</td>\n",
              "      <td id=\"T_3fe25_row0_col25\" class=\"data row0 col25\" >2</td>\n",
              "      <td id=\"T_3fe25_row0_col26\" class=\"data row0 col26\" >Wednesday</td>\n",
              "      <td id=\"T_3fe25_row0_col27\" class=\"data row0 col27\" >3</td>\n",
              "      <td id=\"T_3fe25_row0_col28\" class=\"data row0 col28\" >Afternoon</td>\n",
              "    </tr>\n",
              "    <tr>\n",
              "      <th id=\"T_3fe25_level0_row1\" class=\"row_heading level0 row1\" >1</th>\n",
              "      <td id=\"T_3fe25_row1_col0\" class=\"data row1 col0\" >6.500000</td>\n",
              "      <td id=\"T_3fe25_row1_col1\" class=\"data row1 col1\" >8</td>\n",
              "      <td id=\"T_3fe25_row1_col2\" class=\"data row1 col2\" >6</td>\n",
              "      <td id=\"T_3fe25_row1_col3\" class=\"data row1 col3\" >yellow</td>\n",
              "      <td id=\"T_3fe25_row1_col4\" class=\"data row1 col4\" >0</td>\n",
              "      <td id=\"T_3fe25_row1_col5\" class=\"data row1 col5\" >775</td>\n",
              "      <td id=\"T_3fe25_row1_col6\" class=\"data row1 col6\" >us</td>\n",
              "      <td id=\"T_3fe25_row1_col7\" class=\"data row1 col7\" >92</td>\n",
              "      <td id=\"T_3fe25_row1_col8\" class=\"data row1 col8\" >0.679000</td>\n",
              "      <td id=\"T_3fe25_row1_col9\" class=\"data row1 col9\" >40.000000</td>\n",
              "      <td id=\"T_3fe25_row1_col10\" class=\"data row1 col10\" >mww</td>\n",
              "      <td id=\"T_3fe25_row1_col11\" class=\"data row1 col11\" >69.727000</td>\n",
              "      <td id=\"T_3fe25_row1_col12\" class=\"data row1 col12\" >12.814000</td>\n",
              "      <td id=\"T_3fe25_row1_col13\" class=\"data row1 col13\" >-88.126500</td>\n",
              "      <td id=\"T_3fe25_row1_col14\" class=\"data row1 col14\" >Intipucá, El Salvador</td>\n",
              "      <td id=\"T_3fe25_row1_col15\" class=\"data row1 col15\" >Unknown</td>\n",
              "      <td id=\"T_3fe25_row1_col16\" class=\"data row1 col16\" >Unknown</td>\n",
              "      <td id=\"T_3fe25_row1_col17\" class=\"data row1 col17\" >2023</td>\n",
              "      <td id=\"T_3fe25_row1_col18\" class=\"data row1 col18\" >July</td>\n",
              "      <td id=\"T_3fe25_row1_col19\" class=\"data row1 col19\" >Wednesday</td>\n",
              "      <td id=\"T_3fe25_row1_col20\" class=\"data row1 col20\" >0</td>\n",
              "      <td id=\"T_3fe25_row1_col21\" class=\"data row1 col21\" >False</td>\n",
              "      <td id=\"T_3fe25_row1_col22\" class=\"data row1 col22\" >7</td>\n",
              "      <td id=\"T_3fe25_row1_col23\" class=\"data row1 col23\" >July</td>\n",
              "      <td id=\"T_3fe25_row1_col24\" class=\"data row1 col24\" >19</td>\n",
              "      <td id=\"T_3fe25_row1_col25\" class=\"data row1 col25\" >2</td>\n",
              "      <td id=\"T_3fe25_row1_col26\" class=\"data row1 col26\" >Wednesday</td>\n",
              "      <td id=\"T_3fe25_row1_col27\" class=\"data row1 col27\" >3</td>\n",
              "      <td id=\"T_3fe25_row1_col28\" class=\"data row1 col28\" >Night</td>\n",
              "    </tr>\n",
              "    <tr>\n",
              "      <th id=\"T_3fe25_level0_row2\" class=\"row_heading level0 row2\" >2</th>\n",
              "      <td id=\"T_3fe25_row2_col0\" class=\"data row2 col0\" >6.600000</td>\n",
              "      <td id=\"T_3fe25_row2_col1\" class=\"data row2 col1\" >7</td>\n",
              "      <td id=\"T_3fe25_row2_col2\" class=\"data row2 col2\" >5</td>\n",
              "      <td id=\"T_3fe25_row2_col3\" class=\"data row2 col3\" >green</td>\n",
              "      <td id=\"T_3fe25_row2_col4\" class=\"data row2 col4\" >0</td>\n",
              "      <td id=\"T_3fe25_row2_col5\" class=\"data row2 col5\" >899</td>\n",
              "      <td id=\"T_3fe25_row2_col6\" class=\"data row2 col6\" >us</td>\n",
              "      <td id=\"T_3fe25_row2_col7\" class=\"data row2 col7\" >70</td>\n",
              "      <td id=\"T_3fe25_row2_col8\" class=\"data row2 col8\" >1.634000</td>\n",
              "      <td id=\"T_3fe25_row2_col9\" class=\"data row2 col9\" >28.000000</td>\n",
              "      <td id=\"T_3fe25_row2_col10\" class=\"data row2 col10\" >mww</td>\n",
              "      <td id=\"T_3fe25_row2_col11\" class=\"data row2 col11\" >171.371000</td>\n",
              "      <td id=\"T_3fe25_row2_col12\" class=\"data row2 col12\" >-38.191100</td>\n",
              "      <td id=\"T_3fe25_row2_col13\" class=\"data row2 col13\" >-70.373100</td>\n",
              "      <td id=\"T_3fe25_row2_col14\" class=\"data row2 col14\" >Loncopué, Argentina</td>\n",
              "      <td id=\"T_3fe25_row2_col15\" class=\"data row2 col15\" >South America</td>\n",
              "      <td id=\"T_3fe25_row2_col16\" class=\"data row2 col16\" >Argentina</td>\n",
              "      <td id=\"T_3fe25_row2_col17\" class=\"data row2 col17\" >2023</td>\n",
              "      <td id=\"T_3fe25_row2_col18\" class=\"data row2 col18\" >July</td>\n",
              "      <td id=\"T_3fe25_row2_col19\" class=\"data row2 col19\" >Monday</td>\n",
              "      <td id=\"T_3fe25_row2_col20\" class=\"data row2 col20\" >3</td>\n",
              "      <td id=\"T_3fe25_row2_col21\" class=\"data row2 col21\" >False</td>\n",
              "      <td id=\"T_3fe25_row2_col22\" class=\"data row2 col22\" >7</td>\n",
              "      <td id=\"T_3fe25_row2_col23\" class=\"data row2 col23\" >July</td>\n",
              "      <td id=\"T_3fe25_row2_col24\" class=\"data row2 col24\" >17</td>\n",
              "      <td id=\"T_3fe25_row2_col25\" class=\"data row2 col25\" >0</td>\n",
              "      <td id=\"T_3fe25_row2_col26\" class=\"data row2 col26\" >Monday</td>\n",
              "      <td id=\"T_3fe25_row2_col27\" class=\"data row2 col27\" >3</td>\n",
              "      <td id=\"T_3fe25_row2_col28\" class=\"data row2 col28\" >Night</td>\n",
              "    </tr>\n",
              "  </tbody>\n",
              "</table>\n"
            ]
          },
          "metadata": {}
        },
        {
          "output_type": "stream",
          "name": "stdout",
          "text": [
            "\n",
            "Key Statistics:\n",
            "• Total records: 1,782\n",
            "• Features: 29\n",
            "• Numeric columns: 17\n",
            "• Categorical columns: 10\n"
          ]
        }
      ]
    },
    {
      "cell_type": "code",
      "source": [
        "# Comprehensive null value verification after preprocessing\n",
        "print(\"\\n--- Missing Values Final Check ---\")\n",
        "\n",
        "# Calculate nulls per column and total\n",
        "null_counts = complete_quake_data.isnull().sum()\n",
        "total_nulls = null_counts.sum()\n",
        "\n",
        "# Display results\n",
        "if total_nulls == 0:\n",
        "    print(\"All missing values successfully handled\")\n",
        "else:\n",
        "    print(f\"{total_nulls} missing values remain in the dataset\")\n",
        "    print(\"\\nColumns with missing values:\")\n",
        "    print(null_counts[null_counts > 0].to_string())\n",
        "\n",
        "print(\"\\nData completeness check complete.\")"
      ],
      "metadata": {
        "colab": {
          "base_uri": "https://localhost:8080/"
        },
        "id": "9eMHbO-FnuoI",
        "outputId": "1e96c9ed-3a81-41b4-c30d-ec84682f9f4d"
      },
      "execution_count": 127,
      "outputs": [
        {
          "output_type": "stream",
          "name": "stdout",
          "text": [
            "\n",
            "--- Missing Values Final Check ---\n",
            "All missing values successfully handled\n",
            "\n",
            "Data completeness check complete.\n"
          ]
        }
      ]
    },
    {
      "cell_type": "markdown",
      "source": [
        "# **Data Preparation and Splitting**"
      ],
      "metadata": {
        "id": "DwiqXH27n0Jw"
      }
    },
    {
      "cell_type": "code",
      "source": [
        "# Prepare features and target\n",
        "target_col = 'tsunami'\n",
        "y = complete_quake_data[target_col]\n",
        "X = complete_quake_data.drop(columns=[target_col])\n",
        "\n",
        "# Identify final feature sets\n",
        "numerical_features = X.select_dtypes(include=np.number).columns.tolist()\n",
        "categorical_features = X.select_dtypes(include='object').columns.tolist()\n",
        "\n",
        "print(\"\\n--- Feature Preparation ---\")\n",
        "print(f\"Target variable: {target_col}\")\n",
        "print(f\"Numerical features ({len(numerical_features)}):\")\n",
        "print(numerical_features)\n",
        "print(f\"\\nCategorical features ({len(categorical_features)}):\")\n",
        "print(categorical_features)\n",
        "\n",
        "# One-hot encode categorical features\n",
        "X_encoded = pd.get_dummies(\n",
        "    X,\n",
        "    columns=categorical_features,\n",
        "    drop_first=True,  # Avoid dummy variable trap\n",
        "    dtype='int8'     # Save memory\n",
        ")\n",
        "\n",
        "# Final data quality check\n",
        "print(\"\\n--- Final Data Validation ---\")\n",
        "null_check = X_encoded.isnull().sum()\n",
        "if null_check.sum() == 0:\n",
        "    print(\"No missing values in final features\")\n",
        "else:\n",
        "    print(f\" {null_check.sum()} missing values detected:\")\n",
        "    print(null_check[null_check > 0])\n",
        "\n",
        "print(f\"\\nFinal feature matrix shape: {X_encoded.shape}\")\n",
        "print(f\"Target vector length: {len(y)}\")"
      ],
      "metadata": {
        "colab": {
          "base_uri": "https://localhost:8080/"
        },
        "id": "tNwMQg4Hn7ex",
        "outputId": "cc824dc2-4ac3-447b-e987-c70ad9cce499"
      },
      "execution_count": 159,
      "outputs": [
        {
          "output_type": "stream",
          "name": "stdout",
          "text": [
            "\n",
            "--- Feature Preparation ---\n",
            "Target variable: tsunami\n",
            "Numerical features (16):\n",
            "['magnitude', 'cdi', 'mmi', 'sig', 'nst', 'dmin', 'gap', 'depth', 'latitude', 'longitude', 'year', 'hour', 'month_num', 'day', 'day_of_week_num', 'quarter']\n",
            "\n",
            "Categorical features (10):\n",
            "['alert', 'net', 'magType', 'location', 'continent', 'country', 'month', 'day_of_week', 'month_name', 'day_of_week_name']\n",
            "\n",
            "--- Final Data Validation ---\n",
            "No missing values in final features\n",
            "\n",
            "Final feature matrix shape: (1782, 638)\n",
            "Target vector length: 1782\n"
          ]
        }
      ]
    },
    {
      "cell_type": "code",
      "source": [
        "# Split data into training and testing sets\n",
        "X_train, X_test, y_train, y_test = train_test_split(\n",
        "    X_encoded,\n",
        "    y,\n",
        "    test_size=0.2,\n",
        "    random_state=42,\n",
        "    stratify=y  # Maintain class distribution\n",
        ")\n",
        "\n",
        "print(\"\\n--- Train-Test Split Results ---\")\n",
        "print(f\"Training set: {X_train.shape[0]:,} samples ({X_train.shape[0]/len(X_encoded):.0%})\")\n",
        "print(f\"Testing set: {X_test.shape[0]:,} samples ({X_test.shape[0]/len(X_encoded):.0%})\")\n",
        "print(f\"Features per sample: {X_train.shape[1]}\")\n",
        "\n",
        "print(\"\\nClass Distribution Comparison:\")\n",
        "train_dist = y_train.value_counts(normalize=True).rename('train')\n",
        "test_dist = y_test.value_counts(normalize=True).rename('test')\n",
        "print(pd.concat([train_dist, test_dist], axis=1))\n",
        "\n",
        "print(\"\\n--- Data Split Validation ---\")\n",
        "print(\"Stratification verified\" if np.allclose(train_dist, test_dist, atol=0.01)\n",
        "      else \"Potential stratification issue\")\n",
        "print(f\"Feature consistency verified\" if X_train.columns.equals(X_test.columns)\n",
        "      else \"Feature mismatch detected\")"
      ],
      "metadata": {
        "colab": {
          "base_uri": "https://localhost:8080/"
        },
        "id": "pqj0otXooCpw",
        "outputId": "025d521f-a289-46ba-a3e5-f1c5b95ebd18"
      },
      "execution_count": 129,
      "outputs": [
        {
          "output_type": "stream",
          "name": "stdout",
          "text": [
            "\n",
            "--- Train-Test Split Results ---\n",
            "Training set: 1,425 samples (80%)\n",
            "Testing set: 357 samples (20%)\n",
            "Features per sample: 638\n",
            "\n",
            "Class Distribution Comparison:\n",
            "            train      test\n",
            "tsunami                    \n",
            "0        0.647018  0.647059\n",
            "1        0.352982  0.352941\n",
            "\n",
            "--- Data Split Validation ---\n",
            "Stratification verified\n",
            "Feature consistency verified\n"
          ]
        }
      ]
    },
    {
      "cell_type": "markdown",
      "source": [
        "# **Model Selection and Hyperparameter Tuning (Serial vs. Parallel)**"
      ],
      "metadata": {
        "id": "7DXFttWfoRTK"
      }
    },
    {
      "cell_type": "code",
      "source": [
        "# Configure Random Forest model with comprehensive parameter grid\n",
        "rf_model = RandomForestClassifier(\n",
        "    random_state=42,\n",
        "    class_weight='balanced',  # Handle class imbalance\n",
        "    n_jobs=-1  # Utilize all CPU cores\n",
        ")\n",
        "\n",
        "# Optimized parameter grid for efficient tuning\n",
        "param_grid = {\n",
        "    'n_estimators': [100, 200, 300],  # Number of trees\n",
        "    'max_depth': [None, 10, 20],  # Unlimited or limited depth\n",
        "    'min_samples_split': [2, 5],  # Minimum samples to split node\n",
        "    'max_features': ['sqrt', 0.8]  # Feature consideration at splits\n",
        "}\n",
        "\n",
        "print(\"\\n--- Model Configuration ---\")\n",
        "print(f\"Base estimator: {rf_model.__class__.__name__}\")\n",
        "print(\"Tuning parameters:\")\n",
        "for param, values in param_grid.items():\n",
        "    print(f\"- {param}: {values}\")\n",
        "print(f\"\\nTotal parameter combinations: {np.prod([len(v) for v in param_grid.values()]):,}\")"
      ],
      "metadata": {
        "colab": {
          "base_uri": "https://localhost:8080/"
        },
        "id": "lKxe_0V7oUt5",
        "outputId": "540a4fdc-2ad8-4ff0-94b4-b2227080d080"
      },
      "execution_count": 130,
      "outputs": [
        {
          "output_type": "stream",
          "name": "stdout",
          "text": [
            "\n",
            "--- Model Configuration ---\n",
            "Base estimator: RandomForestClassifier\n",
            "Tuning parameters:\n",
            "- n_estimators: [100, 200, 300]\n",
            "- max_depth: [None, 10, 20]\n",
            "- min_samples_split: [2, 5]\n",
            "- max_features: ['sqrt', 0.8]\n",
            "\n",
            "Total parameter combinations: 36\n"
          ]
        }
      ]
    },
    {
      "cell_type": "code",
      "source": [
        "# 1. TARGET COLUMN SELECTION\n",
        "target_col = next((col for col in ['alert', 'tsunami']\n",
        "                  if col in complete_quake_data.columns), None)\n",
        "\n",
        "if not target_col:\n",
        "    available = complete_quake_data.columns.tolist()\n",
        "    raise KeyError(f\"Need either 'alert' or 'tsunami' column. Available: {available}\")\n",
        "\n",
        "# 2. PREPARE DATA\n",
        "y = complete_quake_data[target_col]\n",
        "X = complete_quake_data.drop(columns=[target_col])\n",
        "\n",
        "# 3. ENCODE CATEGORICAL FEATURES (if any)\n",
        "categorical_cols = X.select_dtypes(include=['object', 'category']).columns\n",
        "if not categorical_cols.empty:\n",
        "    X = pd.get_dummies(X, columns=categorical_cols, drop_first=True)\n",
        "\n",
        "print(f\"\\nModel Setup:\")\n",
        "print(f\"- Target: {target_col} ({(y==1).mean():.1%} positive)\")\n",
        "print(f\"- Features: {X.shape[1]} (after encoding)\")\n",
        "print(f\"- First 3 features: {X.columns[:3].tolist()}\")"
      ],
      "metadata": {
        "colab": {
          "base_uri": "https://localhost:8080/"
        },
        "id": "zlG8rDAJoZ8B",
        "outputId": "64a226fe-ca7c-4925-fccc-54003d25ae11"
      },
      "execution_count": 131,
      "outputs": [
        {
          "output_type": "stream",
          "name": "stdout",
          "text": [
            "\n",
            "Model Setup:\n",
            "- Target: alert (0.0% positive)\n",
            "- Features: 637 (after encoding)\n",
            "- First 3 features: ['magnitude', 'cdi', 'mmi']\n"
          ]
        }
      ]
    },
    {
      "cell_type": "markdown",
      "source": [
        "# **Model Training (Serial vs. Parallel)**"
      ],
      "metadata": {
        "id": "n4dmccvbpZpR"
      }
    },
    {
      "cell_type": "code",
      "source": [
        "import pandas as pd\n",
        "import time\n",
        "from sklearn.ensemble import RandomForestClassifier\n",
        "\n",
        "print(\"\\n=== SERIAL TRAINING ===\")\n",
        "\n",
        "# --- Encode categorical variables ---\n",
        "# Convert all object or categorical columns to numerical using One-Hot Encoding\n",
        "X_train_encoded = pd.get_dummies(X_train)\n",
        "\n",
        "# Align columns in case you plan to use X_test later (important for consistency)\n",
        "# X_test_encoded = pd.get_dummies(X_test)\n",
        "# X_train_encoded, X_test_encoded = X_train_encoded.align(X_test_encoded, join='left', axis=1, fill_value=0)\n",
        "\n",
        "# Start timer\n",
        "serial_start = time.time()\n",
        "\n",
        "# Train model (single-core)\n",
        "serial_model_rf = RandomForestClassifier(\n",
        "    n_estimators=100,\n",
        "    max_depth=20,\n",
        "    random_state=42,\n",
        "    n_jobs=1  # Serial\n",
        ")\n",
        "serial_model_rf.fit(X_train_encoded, y_train)\n",
        "\n",
        "# End timer\n",
        "serial_end = time.time()\n",
        "\n",
        "# Calculate training time\n",
        "serial_duration = serial_end - serial_start\n",
        "\n",
        "# Output\n",
        "print(f\"Serial training completed in {serial_duration:.2f} seconds\")\n"
      ],
      "metadata": {
        "colab": {
          "base_uri": "https://localhost:8080/"
        },
        "id": "zN8nW7gApfhZ",
        "outputId": "72c7de17-36ac-4946-d7a0-b9cb64b787b9"
      },
      "execution_count": 143,
      "outputs": [
        {
          "output_type": "stream",
          "name": "stdout",
          "text": [
            "\n",
            "=== SERIAL TRAINING ===\n",
            "Serial training completed in 0.46 seconds\n"
          ]
        }
      ]
    },
    {
      "cell_type": "code",
      "source": [
        "import pandas as pd\n",
        "import time\n",
        "from sklearn.ensemble import RandomForestClassifier\n",
        "from sklearn.preprocessing import LabelEncoder\n",
        "\n",
        "print(\"\\n=== PARALLEL TRAINING ===\")\n",
        "\n",
        "# --- Encode categorical features ---\n",
        "# One-hot encode X_train (safe for non-numeric/categorical data)\n",
        "X_train_encoded = pd.get_dummies(X_train)\n",
        "\n",
        "# (Optional) Encode y_train if it contains categorical strings\n",
        "if y_train.dtype == 'object' or y_train.dtype.name == 'category':\n",
        "    le_y = LabelEncoder()\n",
        "    y_train = le_y.fit_transform(y_train)\n",
        "\n",
        "# Start timer\n",
        "parallel_start = time.time()\n",
        "\n",
        "# Train model (multi-core)\n",
        "parallel_model_rf = RandomForestClassifier(\n",
        "    n_estimators=100,\n",
        "    max_depth=20,\n",
        "    random_state=42,\n",
        "    n_jobs=-1  # Use all CPU cores\n",
        ")\n",
        "parallel_model_rf.fit(X_train_encoded, y_train)\n",
        "\n",
        "# End timer\n",
        "parallel_end = time.time()\n",
        "\n",
        "# Calculate training time\n",
        "parallel_duration = parallel_end - parallel_start\n",
        "\n",
        "# Output\n",
        "print(f\"Parallel training completed in {parallel_duration:.2f} seconds\")\n"
      ],
      "metadata": {
        "colab": {
          "base_uri": "https://localhost:8080/"
        },
        "id": "mIrlYlkht8NE",
        "outputId": "2bc2f760-3bd5-429f-dc88-aaf3c0665520"
      },
      "execution_count": 144,
      "outputs": [
        {
          "output_type": "stream",
          "name": "stdout",
          "text": [
            "\n",
            "=== PARALLEL TRAINING ===\n",
            "Parallel training completed in 0.29 seconds\n"
          ]
        }
      ]
    },
    {
      "cell_type": "code",
      "source": [
        "# --- Training Time Comparison ---\n",
        "\n",
        "print(\"\\n=== TRAINING TIME COMPARISON ===\")\n",
        "\n",
        "print(f\"Serial Training Time   : {serial_duration:.2f} sec\")\n",
        "print(f\"Parallel Training Time : {parallel_duration:.2f} sec\")\n",
        "\n",
        "# Calculate speedup\n",
        "if parallel_duration > 0:\n",
        "    speedup_factor = serial_duration / parallel_duration\n",
        "    print(f\"Speedup Achieved       : {speedup_factor:.2f}x faster\")\n",
        "else:\n",
        "    print(\"Parallel duration is zero or not set correctly.\")\n"
      ],
      "metadata": {
        "colab": {
          "base_uri": "https://localhost:8080/"
        },
        "id": "AZ-OqikTuXMj",
        "outputId": "1dec2c6f-1ae5-4aec-878d-0fce8cab4409"
      },
      "execution_count": 145,
      "outputs": [
        {
          "output_type": "stream",
          "name": "stdout",
          "text": [
            "\n",
            "=== TRAINING TIME COMPARISON ===\n",
            "Serial Training Time   : 0.46 sec\n",
            "Parallel Training Time : 0.29 sec\n",
            "Speedup Achieved       : 1.56x faster\n"
          ]
        }
      ]
    },
    {
      "cell_type": "markdown",
      "source": [
        "# **Model Evaluation and Insight**"
      ],
      "metadata": {
        "id": "kcW23n2dyqNW"
      }
    },
    {
      "cell_type": "code",
      "source": [
        "\n",
        "# --- One-hot encode X_test just like X_train ---\n",
        "X_test_encoded = pd.get_dummies(X_test)\n",
        "\n",
        "# Align columns to match training set\n",
        "X_train_encoded, X_test_encoded = X_train_encoded.align(X_test_encoded, join='left', axis=1, fill_value=0)\n",
        "\n",
        "# Evaluate SERIAL model\n",
        "print(\"\\nEvaluating the SERIAL model on the test set...\")\n",
        "\n",
        "y_pred_serial = serial_model_rf.predict(X_test_encoded)\n",
        "\n",
        "accuracy_serial = accuracy_score(y_test, y_pred_serial)\n",
        "precision_serial = precision_score(y_test, y_pred_serial, zero_division=0)\n",
        "recall_serial = recall_score(y_test, y_pred_serial, zero_division=0)\n",
        "f1_serial = f1_score(y_test, y_pred_serial, zero_division=0)\n",
        "conf_matrix_serial = confusion_matrix(y_test, y_pred_serial)\n",
        "\n",
        "print(f\"Serial Model Accuracy: {accuracy_serial:.4f}\")\n",
        "print(f\"Serial Model Precision: {precision_serial:.4f}\")\n",
        "print(f\"Serial Model Recall: {recall_serial:.4f}\")\n",
        "print(f\"Serial Model F1-Score: {f1_serial:.4f}\")\n",
        "print(\"\\nSerial Model Confusion Matrix:\")\n",
        "print(conf_matrix_serial)"
      ],
      "metadata": {
        "colab": {
          "base_uri": "https://localhost:8080/"
        },
        "id": "5McRgOUhyul2",
        "outputId": "52e2a06d-ac04-4e2d-d40f-e749745d98bb"
      },
      "execution_count": 149,
      "outputs": [
        {
          "output_type": "stream",
          "name": "stdout",
          "text": [
            "\n",
            "Evaluating the SERIAL model on the test set...\n",
            "Serial Model Accuracy: 0.9496\n",
            "Serial Model Precision: 0.9426\n",
            "Serial Model Recall: 0.9127\n",
            "Serial Model F1-Score: 0.9274\n",
            "\n",
            "Serial Model Confusion Matrix:\n",
            "[[224   7]\n",
            " [ 11 115]]\n"
          ]
        }
      ]
    },
    {
      "cell_type": "code",
      "source": [
        "# --- Evaluate PARALLEL model ---\n",
        "print(\"\\nEvaluating the PARALLEL model on the test set...\")\n",
        "\n",
        "y_pred_parallel = parallel_model_rf.predict(X_test_encoded)\n",
        "\n",
        "accuracy_parallel = accuracy_score(y_test, y_pred_parallel)\n",
        "precision_parallel = precision_score(y_test, y_pred_parallel, zero_division=0)\n",
        "recall_parallel = recall_score(y_test, y_pred_parallel, zero_division=0)\n",
        "f1_parallel = f1_score(y_test, y_pred_parallel, zero_division=0)\n",
        "conf_matrix_parallel = confusion_matrix(y_test, y_pred_parallel)\n",
        "\n",
        "print(f\"Parallel Model Accuracy: {accuracy_parallel:.4f}\")\n",
        "print(f\"Parallel Model Precision: {precision_parallel:.4f}\")\n",
        "print(f\"Parallel Model Recall: {recall_parallel:.4f}\")\n",
        "print(f\"Parallel Model F1-Score: {f1_parallel:.4f}\")\n",
        "print(\"\\nParallel Model Confusion Matrix:\")\n",
        "print(conf_matrix_parallel)"
      ],
      "metadata": {
        "colab": {
          "base_uri": "https://localhost:8080/"
        },
        "id": "kl2WqOmiuTak",
        "outputId": "8fc25c75-e0e8-48c6-b711-7f3e1ce3c937"
      },
      "execution_count": 150,
      "outputs": [
        {
          "output_type": "stream",
          "name": "stdout",
          "text": [
            "\n",
            "Evaluating the PARALLEL model on the test set...\n",
            "Parallel Model Accuracy: 0.9496\n",
            "Parallel Model Precision: 0.9426\n",
            "Parallel Model Recall: 0.9127\n",
            "Parallel Model F1-Score: 0.9274\n",
            "\n",
            "Parallel Model Confusion Matrix:\n",
            "[[224   7]\n",
            " [ 11 115]]\n"
          ]
        }
      ]
    },
    {
      "cell_type": "code",
      "source": [
        "# --- Performance Comparison ---\n",
        "print(\"\\n=== MODEL PERFORMANCE ===\")\n",
        "\n",
        "# Create comparison table\n",
        "metrics = {\n",
        "    'Metric': ['Accuracy', 'Precision', 'Recall', 'F1'],\n",
        "    'Serial': [accuracy_serial, precision_serial, recall_serial, f1_serial],\n",
        "    'Parallel': [accuracy_parallel, precision_parallel, recall_parallel, f1_parallel]\n",
        "}\n",
        "\n",
        "# Print formatted table\n",
        "print(\"\\n\" + pd.DataFrame(metrics).to_string(index=False, float_format=\"%.4f\"))"
      ],
      "metadata": {
        "colab": {
          "base_uri": "https://localhost:8080/"
        },
        "id": "aeB3K1fsy1-O",
        "outputId": "0f5d3af3-09f7-458e-ec0c-de4ae044c6a7"
      },
      "execution_count": 151,
      "outputs": [
        {
          "output_type": "stream",
          "name": "stdout",
          "text": [
            "\n",
            "=== MODEL PERFORMANCE ===\n",
            "\n",
            "   Metric  Serial  Parallel\n",
            " Accuracy  0.9496    0.9496\n",
            "Precision  0.9426    0.9426\n",
            "   Recall  0.9127    0.9127\n",
            "       F1  0.9274    0.9274\n"
          ]
        }
      ]
    },
    {
      "cell_type": "code",
      "source": [
        "import time\n",
        "import pandas as pd\n",
        "from sklearn.model_selection import GridSearchCV\n",
        "from sklearn.ensemble import RandomForestClassifier\n",
        "\n",
        "# --------------------- Time Comparison ---------------------\n",
        "print(\"\\n--- Time Performance Comparison ---\")\n",
        "time_data = {\n",
        "    'Process': ['Hyperparameter Tuning', 'Model Training'],\n",
        "    'Serial Time (seconds)': [serial_tune_time, serial_train_time],\n",
        "    'Parallel Time (seconds)': [parallel_tune_time, parallel_train_time],\n",
        "    'Speedup (X times faster)': [\n",
        "        (serial_tune_time / parallel_tune_time) if parallel_tune_time > 0 else float('inf'),\n",
        "        (serial_train_time / parallel_train_time) if parallel_train_time > 0 else float('inf')\n",
        "    ]\n",
        "}\n",
        "time_df = pd.DataFrame(time_data)\n",
        "print(time_df.round(2))\n"
      ],
      "metadata": {
        "colab": {
          "base_uri": "https://localhost:8080/"
        },
        "id": "o8PlvDRby4a-",
        "outputId": "ac2a8186-ea6d-4f9d-dc0b-438d62180a83"
      },
      "execution_count": 152,
      "outputs": [
        {
          "output_type": "stream",
          "name": "stdout",
          "text": [
            "\n",
            "--- Time Performance Comparison ---\n",
            "                 Process  Serial Time (seconds)  Parallel Time (seconds)  \\\n",
            "0  Hyperparameter Tuning                  15.53                    10.92   \n",
            "1         Model Training                   0.39                     0.38   \n",
            "\n",
            "   Speedup (X times faster)  \n",
            "0                      1.42  \n",
            "1                      1.03  \n"
          ]
        }
      ]
    },
    {
      "cell_type": "code",
      "source": [
        "# Visualize Confusion Matrix for the Parallel Model (as this would be the deployed one in a real system)\n",
        "plt.figure(figsize=(8, 6))\n",
        "sns.heatmap(conf_matrix_parallel, annot=True, fmt='d', cmap='Blues', cbar=False,\n",
        "            xticklabels=['Predicted No Tsunami', 'Predicted Tsunami'],\n",
        "            yticklabels=['Actual No Tsunami', 'Actual Tsunami'])\n",
        "plt.title('Confusion Matrix for Parallel Model Tsunami Prediction')\n",
        "plt.xlabel('Predicted Label')\n",
        "plt.ylabel('True Label')\n",
        "plt.show()"
      ],
      "metadata": {
        "colab": {
          "base_uri": "https://localhost:8080/",
          "height": 564
        },
        "id": "V0Cuujrfy84O",
        "outputId": "24898175-dedb-4223-a353-7ad1eb5cf27b"
      },
      "execution_count": 153,
      "outputs": [
        {
          "output_type": "display_data",
          "data": {
            "text/plain": [
              "<Figure size 800x600 with 1 Axes>"
            ],
            "image/png": "[encoded data removed]"
          },
          "metadata": {}
        }
      ]
    },
    {
      "cell_type": "code",
      "source": [
        "# --- Feature Importance for Insight (from the Parallel Model) ---\n",
        "print(\"\\n--- Feature Importance (from Parallel Model) ---\")\n",
        "\n",
        "# Use the model directly (no .best_estimator_ needed)\n",
        "if hasattr(parallel_model_rf, 'feature_importances_'):\n",
        "    feature_importances = parallel_model_rf.feature_importances_\n",
        "\n",
        "    # Use encoded feature names (from X_train_encoded)\n",
        "    feature_names = X_train_encoded.columns\n",
        "\n",
        "    features_df = pd.DataFrame({\n",
        "        'Feature': feature_names,\n",
        "        'Importance': feature_importances\n",
        "    }).sort_values(by='Importance', ascending=False).reset_index(drop=True)\n",
        "\n",
        "    print(\"Top 10 Most Important Features:\")\n",
        "    print(features_df.head(10))\n",
        "else:\n",
        "    print(\"The selected model does not support feature importances.\")\n"
      ],
      "metadata": {
        "id": "jaFBh0B_zBu-",
        "outputId": "17b185d5-aef3-411e-b437-0b7d6fa5f74f",
        "colab": {
          "base_uri": "https://localhost:8080/"
        }
      },
      "execution_count": 157,
      "outputs": [
        {
          "output_type": "stream",
          "name": "stdout",
          "text": [
            "\n",
            "--- Feature Importance (from Parallel Model) ---\n",
            "Top 10 Most Important Features:\n",
            "       Feature  Importance\n",
            "0         year    0.121133\n",
            "1  alert_green    0.103664\n",
            "2         dmin    0.086058\n",
            "3  magType_mww    0.074926\n",
            "4          nst    0.058227\n",
            "5  magType_mwc    0.043767\n",
            "6    longitude    0.042041\n",
            "7          gap    0.030390\n",
            "8     latitude    0.028590\n",
            "9          cdi    0.026911\n"
          ]
        }
      ]
    },
    {
      "cell_type": "code",
      "source": [
        "import matplotlib.pyplot as plt\n",
        "\n",
        "# --- Feature Importance ---\n",
        "plt.figure(figsize=(10, 6))\n",
        "features_df.head(20).sort_values('Importance').plot.barh(\n",
        "    x='Feature',\n",
        "    y='Importance',\n",
        "    color='teal',\n",
        "    legend=False\n",
        ")\n",
        "plt.title('Top 20 Predictive Features')\n",
        "plt.tight_layout()\n",
        "plt.show()"
      ],
      "metadata": {
        "id": "29yyUN6KzE3-",
        "outputId": "1c869f5e-d8b8-45de-c0db-fc1b49425af9",
        "colab": {
          "base_uri": "https://localhost:8080/",
          "height": 505
        }
      },
      "execution_count": 158,
      "outputs": [
        {
          "output_type": "display_data",
          "data": {
            "text/plain": [
              "<Figure size 1000x600 with 0 Axes>"
            ]
          },
          "metadata": {}
        },
        {
          "output_type": "display_data",
          "data": {
            "text/plain": [
              "<Figure size 640x480 with 1 Axes>"
            ],
            "image/png": "[encoded data removed]"
          },
          "metadata": {}
        }
      ]
    }
  ]
}